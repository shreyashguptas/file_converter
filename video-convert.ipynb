{
 "cells": [
  {
   "cell_type": "code",
   "execution_count": 10,
   "metadata": {},
   "outputs": [],
   "source": [
    "# %pip install --upgrade pip\n",
    "# %pip install moviepy\n",
    "# %pip install imageio-ffmpeg\n",
    "# %pip install ffmpeg-python"
   ]
  },
  {
   "cell_type": "code",
   "execution_count": 13,
   "metadata": {},
   "outputs": [],
   "source": [
    "# !pip install --upgrade imageio-ffmpeg moviepy"
   ]
  },
  {
   "cell_type": "code",
   "execution_count": 4,
   "metadata": {},
   "outputs": [
    {
     "name": "stdout",
     "output_type": "stream",
     "text": [
      "FFmpeg path: /opt/homebrew/bin/ffmpeg\n",
      "Moviepy - Building video /Users/shreyashgupta/Desktop/Application to YC_compressed.mp4.\n",
      "MoviePy - Writing audio in Application to YC_compressedTEMP_MPY_wvf_snd.mp3\n"
     ]
    },
    {
     "name": "stderr",
     "output_type": "stream",
     "text": [
      "                                                                     \r"
     ]
    },
    {
     "name": "stdout",
     "output_type": "stream",
     "text": [
      "MoviePy - Done.\n",
      "Moviepy - Writing video /Users/shreyashgupta/Desktop/Application to YC_compressed.mp4\n",
      "\n"
     ]
    },
    {
     "name": "stderr",
     "output_type": "stream",
     "text": [
      "                                                                 \r"
     ]
    },
    {
     "name": "stdout",
     "output_type": "stream",
     "text": [
      "Moviepy - Done !\n",
      "Moviepy - video ready /Users/shreyashgupta/Desktop/Application to YC_compressed.mp4\n",
      "Compressed video saved as /Users/shreyashgupta/Desktop/Application to YC_compressed.mp4\n",
      "New file size: 105.10 MB\n"
     ]
    }
   ],
   "source": [
    "import os\n",
    "import subprocess\n",
    "\n",
    "# Find FFmpeg path\n",
    "ffmpeg_path = subprocess.check_output(['which', 'ffmpeg']).decode().strip()\n",
    "print(f\"FFmpeg path: {ffmpeg_path}\")\n",
    "\n",
    "# Set the IMAGEIO_FFMPEG_EXE environment variable\n",
    "os.environ[\"IMAGEIO_FFMPEG_EXE\"] = ffmpeg_path\n",
    "\n",
    "# Now import the required modules\n",
    "from moviepy.editor import VideoFileClip\n",
    "\n",
    "def compress_video(input_file, output_file, target_size_mb):\n",
    "    # Load the video clip\n",
    "    clip = VideoFileClip(input_file)\n",
    "    \n",
    "    # Get the duration of the video in seconds\n",
    "    duration = clip.duration\n",
    "    \n",
    "    # Calculate the target bitrate (in bits per second)\n",
    "    target_total_bitrate = (target_size_mb * 8 * 1024 * 1024) / duration\n",
    "    \n",
    "    # Assume audio bitrate of 128k and subtract it from the total bitrate\n",
    "    target_video_bitrate = target_total_bitrate - 128000\n",
    "    \n",
    "    # Compress the video\n",
    "    clip.write_videofile(\n",
    "        output_file,\n",
    "        bitrate=f\"{target_video_bitrate/1000:.0f}k\",\n",
    "        audio_bitrate=\"128k\",\n",
    "        preset='slow',\n",
    "        codec='libx264'\n",
    "    )\n",
    "    \n",
    "    # Close the clip to free up system resources\n",
    "    clip.close()\n",
    "    \n",
    "    print(f\"Compressed video saved as {output_file}\")\n",
    "    print(f\"New file size: {os.path.getsize(output_file) / (1024*1024):.2f} MB\")\n",
    "\n",
    "# Example usage\n",
    "input_file = '/Users/shreyashgupta/Desktop/Application to YC.mov'\n",
    "output_file = '/Users/shreyashgupta/Desktop/Application to YC_compressed.mp4'\n",
    "target_size = 95  # Target size in MB\n",
    "\n",
    "compress_video(input_file, output_file, target_size)"
   ]
  },
  {
   "cell_type": "code",
   "execution_count": null,
   "metadata": {},
   "outputs": [],
   "source": []
  }
 ],
 "metadata": {
  "kernelspec": {
   "display_name": "myenv",
   "language": "python",
   "name": "python3"
  },
  "language_info": {
   "codemirror_mode": {
    "name": "ipython",
    "version": 3
   },
   "file_extension": ".py",
   "mimetype": "text/x-python",
   "name": "python",
   "nbconvert_exporter": "python",
   "pygments_lexer": "ipython3",
   "version": "3.11.9"
  }
 },
 "nbformat": 4,
 "nbformat_minor": 2
}
