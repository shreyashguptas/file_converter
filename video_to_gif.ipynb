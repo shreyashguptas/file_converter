{
 "cells": [
  {
   "cell_type": "code",
   "execution_count": 1,
   "metadata": {},
   "outputs": [
    {
     "name": "stdout",
     "output_type": "stream",
     "text": [
      "Requirement already satisfied: moviepy in ./myenv/lib/python3.11/site-packages (1.0.3)\n",
      "Requirement already satisfied: decorator<5.0,>=4.0.2 in ./myenv/lib/python3.11/site-packages (from moviepy) (4.4.2)\n",
      "Requirement already satisfied: tqdm<5.0,>=4.11.2 in ./myenv/lib/python3.11/site-packages (from moviepy) (4.66.5)\n",
      "Requirement already satisfied: requests<3.0,>=2.8.1 in ./myenv/lib/python3.11/site-packages (from moviepy) (2.32.3)\n",
      "Requirement already satisfied: proglog<=1.0.0 in ./myenv/lib/python3.11/site-packages (from moviepy) (0.1.10)\n",
      "Requirement already satisfied: numpy>=1.17.3 in ./myenv/lib/python3.11/site-packages (from moviepy) (2.1.0)\n",
      "Requirement already satisfied: imageio<3.0,>=2.5 in ./myenv/lib/python3.11/site-packages (from moviepy) (2.35.1)\n",
      "Requirement already satisfied: imageio-ffmpeg>=0.2.0 in ./myenv/lib/python3.11/site-packages (from moviepy) (0.5.1)\n",
      "Requirement already satisfied: pillow>=8.3.2 in ./myenv/lib/python3.11/site-packages (from imageio<3.0,>=2.5->moviepy) (10.4.0)\n",
      "Requirement already satisfied: setuptools in ./myenv/lib/python3.11/site-packages (from imageio-ffmpeg>=0.2.0->moviepy) (65.5.0)\n",
      "Requirement already satisfied: charset-normalizer<4,>=2 in ./myenv/lib/python3.11/site-packages (from requests<3.0,>=2.8.1->moviepy) (3.3.2)\n",
      "Requirement already satisfied: idna<4,>=2.5 in ./myenv/lib/python3.11/site-packages (from requests<3.0,>=2.8.1->moviepy) (3.8)\n",
      "Requirement already satisfied: urllib3<3,>=1.21.1 in ./myenv/lib/python3.11/site-packages (from requests<3.0,>=2.8.1->moviepy) (2.2.2)\n",
      "Requirement already satisfied: certifi>=2017.4.17 in ./myenv/lib/python3.11/site-packages (from requests<3.0,>=2.8.1->moviepy) (2024.7.4)\n",
      "Note: you may need to restart the kernel to use updated packages.\n"
     ]
    }
   ],
   "source": [
    "%pip install moviepy"
   ]
  },
  {
   "cell_type": "code",
   "execution_count": 3,
   "metadata": {},
   "outputs": [
    {
     "name": "stderr",
     "output_type": "stream",
     "text": [
      "t:   1%|          | 2/219 [00:41<1:14:49, 20.69s/it, now=None]"
     ]
    },
    {
     "name": "stdout",
     "output_type": "stream",
     "text": [
      "MoviePy - Building file /Users/shreyashgupta/Desktop/Black Scholes Model.gif with imageio.\n"
     ]
    },
    {
     "name": "stderr",
     "output_type": "stream",
     "text": []
    },
    {
     "name": "stdout",
     "output_type": "stream",
     "text": [
      "Conversion complete. GIF saved as /Users/shreyashgupta/Desktop/Black Scholes Model.gif\n"
     ]
    }
   ],
   "source": [
    "import moviepy.editor as mp\n",
    "from pathlib import Path\n",
    "import os\n",
    "\n",
    "def convert_video_to_gif(input_path, output_path=None, fps=30):\n",
    "    # Load the video file\n",
    "    video = mp.VideoFileClip(input_path)\n",
    "    \n",
    "    # If no output path is specified, use the input filename with .gif extension\n",
    "    if output_path is None:\n",
    "        output_path = Path(input_path).with_suffix('.gif')\n",
    "    else:\n",
    "        # Ensure the output path is a file, not a directory\n",
    "        output_path = Path(output_path) / Path(input_path).with_suffix('.gif').name\n",
    "    \n",
    "    # Ensure the directory exists\n",
    "    output_path.parent.mkdir(parents=True, exist_ok=True)\n",
    "    \n",
    "    # Convert to GIF\n",
    "    try:\n",
    "        video.write_gif(str(output_path), fps=fps)\n",
    "    except Exception as e:\n",
    "        print(f\"An error occurred: {e}\")\n",
    "        print(\"Trying alternative method...\")\n",
    "        video.write_gif(str(output_path), fps=fps, program='imageio')\n",
    "    finally:\n",
    "        # Close the video to free up system resources\n",
    "        video.close()\n",
    "    \n",
    "    if output_path.exists():\n",
    "        print(f\"Conversion complete. GIF saved as {output_path}\")\n",
    "    else:\n",
    "        print(\"Conversion failed.\")\n",
    "\n",
    "# Example usage\n",
    "input_video = \"/Users/shreyashgupta/Desktop/Black Scholes Model.mp4\"\n",
    "output_directory = \"/Users/shreyashgupta/Desktop\"\n",
    "convert_video_to_gif(input_video, output_directory)"
   ]
  },
  {
   "cell_type": "code",
   "execution_count": 10,
   "metadata": {},
   "outputs": [
    {
     "name": "stderr",
     "output_type": "stream",
     "text": [
      "t:   1%|          | 2/219 [11:59<21:40:23, 359.56s/it, now=None]"
     ]
    },
    {
     "name": "stdout",
     "output_type": "stream",
     "text": [
      "MoviePy - Building file /Users/shreyashgupta/Desktop/Binomial Model.gif with imageio.\n"
     ]
    },
    {
     "name": "stderr",
     "output_type": "stream",
     "text": []
    },
    {
     "name": "stdout",
     "output_type": "stream",
     "text": [
      "Conversion complete. GIF saved as /Users/shreyashgupta/Desktop/Binomial Model.gif\n",
      "Speed factor applied: 4.0x\n"
     ]
    }
   ],
   "source": [
    "import moviepy.editor as mp\n",
    "from pathlib import Path\n",
    "\n",
    "def convert_video_to_gif(input_path, output_path=None, fps=30, speed_factor=1.0):\n",
    "    # Load the video file\n",
    "    video = mp.VideoFileClip(input_path)\n",
    "    \n",
    "    # Adjust the speed of the video\n",
    "    if speed_factor != 1.0:\n",
    "        video = video.speedx(speed_factor)\n",
    "    \n",
    "    # If no output path is specified, use the input filename with .gif extension\n",
    "    if output_path is None:\n",
    "        output_path = Path(input_path).with_suffix('.gif')\n",
    "    else:\n",
    "        # Ensure the output path is a file, not a directory\n",
    "        output_path = Path(output_path) / Path(input_path).with_suffix('.gif').name\n",
    "    \n",
    "    # Ensure the directory exists\n",
    "    output_path.parent.mkdir(parents=True, exist_ok=True)\n",
    "    \n",
    "    # Convert to GIF\n",
    "    try:\n",
    "        video.write_gif(str(output_path), fps=fps)\n",
    "    except Exception as e:\n",
    "        print(f\"An error occurred: {e}\")\n",
    "        print(\"Trying alternative method...\")\n",
    "        video.write_gif(str(output_path), fps=fps, program='imageio')\n",
    "    finally:\n",
    "        # Close the video to free up system resources\n",
    "        video.close()\n",
    "    \n",
    "    if output_path.exists():\n",
    "        print(f\"Conversion complete. GIF saved as {output_path}\")\n",
    "        print(f\"Speed factor applied: {speed_factor}x\")\n",
    "    else:\n",
    "        print(\"Conversion failed.\")\n",
    "\n",
    "# Example usage\n",
    "input_video = \"/Users/shreyashgupta/Desktop/Binomial Model.mp4\"\n",
    "output_directory = \"/Users/shreyashgupta/Desktop\"\n",
    "\n",
    "# Set your desired speed factor here\n",
    "SPEED_FACTOR = 4.0  # Change this value to adjust the speed\n",
    "\n",
    "# Convert to GIF with the specified speed factor\n",
    "convert_video_to_gif(input_video, output_directory, speed_factor=SPEED_FACTOR)"
   ]
  },
  {
   "cell_type": "code",
   "execution_count": null,
   "metadata": {},
   "outputs": [],
   "source": []
  }
 ],
 "metadata": {
  "kernelspec": {
   "display_name": "myenv",
   "language": "python",
   "name": "python3"
  },
  "language_info": {
   "codemirror_mode": {
    "name": "ipython",
    "version": 3
   },
   "file_extension": ".py",
   "mimetype": "text/x-python",
   "name": "python",
   "nbconvert_exporter": "python",
   "pygments_lexer": "ipython3",
   "version": "3.11.9"
  }
 },
 "nbformat": 4,
 "nbformat_minor": 2
}
