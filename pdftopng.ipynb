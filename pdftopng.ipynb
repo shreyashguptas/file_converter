{
 "cells": [
  {
   "cell_type": "code",
   "execution_count": 2,
   "metadata": {},
   "outputs": [
    {
     "name": "stdout",
     "output_type": "stream",
     "text": [
      "Requirement already satisfied: pip in ./myenv/lib/python3.11/site-packages (24.0)\n",
      "Collecting pip\n",
      "  Using cached pip-24.1.2-py3-none-any.whl.metadata (3.6 kB)\n",
      "Using cached pip-24.1.2-py3-none-any.whl (1.8 MB)\n",
      "Installing collected packages: pip\n",
      "  Attempting uninstall: pip\n",
      "    Found existing installation: pip 24.0\n",
      "    Uninstalling pip-24.0:\n",
      "      Successfully uninstalled pip-24.0\n",
      "Successfully installed pip-24.1.2\n",
      "Note: you may need to restart the kernel to use updated packages.\n",
      "Requirement already satisfied: pdf2image in ./myenv/lib/python3.11/site-packages (1.17.0)\n",
      "Requirement already satisfied: pillow in ./myenv/lib/python3.11/site-packages (from pdf2image) (10.4.0)\n",
      "Note: you may need to restart the kernel to use updated packages.\n",
      "Requirement already satisfied: pillow in ./myenv/lib/python3.11/site-packages (10.4.0)\n",
      "Note: you may need to restart the kernel to use updated packages.\n"
     ]
    }
   ],
   "source": [
    "%pip install --upgrade pip\n",
    "\n",
    "%pip install pdf2image\n",
    "%pip install pillow"
   ]
  },
  {
   "cell_type": "code",
   "execution_count": 7,
   "metadata": {},
   "outputs": [
    {
     "name": "stdout",
     "output_type": "stream",
     "text": [
      "Saved /Users/shreyashgupta/Desktop/pdf_to_png_output/page_1.png\n",
      "Conversion completed!\n"
     ]
    }
   ],
   "source": [
    "from pdf2image import convert_from_path\n",
    "import os\n",
    "\n",
    "# ====== SET YOUR PATHS HERE ======\n",
    "# Input the full path to your PDF file:\n",
    "PDF_FILE_PATH = \"/Users/shreyashgupta/Desktop/pdf_to_png_output/Scanned_Documents.pdf\"\n",
    "\n",
    "# Input the full path to your desired output folder:\n",
    "OUTPUT_FOLDER = \"/Users/shreyashgupta/Desktop/pdf_to_png_output\"\n",
    "# ====== END OF PATH SETTINGS ======\n",
    "\n",
    "def pdf_to_png(pdf_path, output_folder):\n",
    "    # Convert PDF to list of images\n",
    "    images = convert_from_path(pdf_path, dpi=300)  # dpi=300 for full resolution\n",
    "\n",
    "    # Ensure the output folder exists\n",
    "    if not os.path.exists(output_folder):\n",
    "        os.makedirs(output_folder)\n",
    "\n",
    "    # Save each page as a PNG file\n",
    "    for i, image in enumerate(images):\n",
    "        image_path = os.path.join(output_folder, f'page_{i + 1}.png')\n",
    "        image.save(image_path, 'PNG')\n",
    "        print(f'Saved {image_path}')\n",
    "\n",
    "if __name__ == \"__main__\":\n",
    "    if os.path.exists(PDF_FILE_PATH) and PDF_FILE_PATH.lower().endswith('.pdf'):\n",
    "        pdf_to_png(PDF_FILE_PATH, OUTPUT_FOLDER)\n",
    "        print(\"Conversion completed!\")\n",
    "    else:\n",
    "        print(\"Error: Please check your PDF file path. It should exist and be a .pdf file.\")"
   ]
  },
  {
   "cell_type": "code",
   "execution_count": null,
   "metadata": {},
   "outputs": [],
   "source": []
  }
 ],
 "metadata": {
  "kernelspec": {
   "display_name": "myenv",
   "language": "python",
   "name": "python3"
  },
  "language_info": {
   "codemirror_mode": {
    "name": "ipython",
    "version": 3
   },
   "file_extension": ".py",
   "mimetype": "text/x-python",
   "name": "python",
   "nbconvert_exporter": "python",
   "pygments_lexer": "ipython3",
   "version": "3.11.9"
  }
 },
 "nbformat": 4,
 "nbformat_minor": 2
}
