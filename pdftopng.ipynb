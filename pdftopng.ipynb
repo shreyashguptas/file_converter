{
 "cells": [
  {
   "cell_type": "code",
   "execution_count": 2,
   "metadata": {},
   "outputs": [
    {
     "name": "stdout",
     "output_type": "stream",
     "text": [
      "Requirement already satisfied: pip in ./myenv/lib/python3.11/site-packages (24.0)\n",
      "Collecting pip\n",
      "  Using cached pip-24.1.2-py3-none-any.whl.metadata (3.6 kB)\n",
      "Using cached pip-24.1.2-py3-none-any.whl (1.8 MB)\n",
      "Installing collected packages: pip\n",
      "  Attempting uninstall: pip\n",
      "    Found existing installation: pip 24.0\n",
      "    Uninstalling pip-24.0:\n",
      "      Successfully uninstalled pip-24.0\n",
      "Successfully installed pip-24.1.2\n",
      "Note: you may need to restart the kernel to use updated packages.\n",
      "Requirement already satisfied: pdf2image in ./myenv/lib/python3.11/site-packages (1.17.0)\n",
      "Requirement already satisfied: pillow in ./myenv/lib/python3.11/site-packages (from pdf2image) (10.4.0)\n",
      "Note: you may need to restart the kernel to use updated packages.\n",
      "Requirement already satisfied: pillow in ./myenv/lib/python3.11/site-packages (10.4.0)\n",
      "Note: you may need to restart the kernel to use updated packages.\n"
     ]
    }
   ],
   "source": [
    "%pip install --upgrade pip\n",
    "\n",
    "%pip install pdf2image\n",
    "%pip install pillow"
   ]
  },
  {
   "cell_type": "code",
   "execution_count": 3,
   "metadata": {},
   "outputs": [
    {
     "name": "stdout",
     "output_type": "stream",
     "text": [
      "FFmpeg path: /opt/homebrew/bin/ffmpeg\n",
      "Moviepy - Building video /Users/shreyashgupta/Desktop/Application to YC_compressed.mp4.\n",
      "MoviePy - Writing audio in Application to YC_compressedTEMP_MPY_wvf_snd.mp4\n"
     ]
    },
    {
     "name": "stderr",
     "output_type": "stream",
     "text": [
      "                                                                      \r"
     ]
    },
    {
     "name": "stdout",
     "output_type": "stream",
     "text": [
      "MoviePy - Done.\n",
      "Moviepy - Writing video /Users/shreyashgupta/Desktop/Application to YC_compressed.mp4\n",
      "\n"
     ]
    },
    {
     "name": "stderr",
     "output_type": "stream",
     "text": [
      "                                                                 \r"
     ]
    },
    {
     "name": "stdout",
     "output_type": "stream",
     "text": [
      "Moviepy - Done !\n",
      "Moviepy - video ready /Users/shreyashgupta/Desktop/Application to YC_compressed.mp4\n",
      "Compressed video saved as /Users/shreyashgupta/Desktop/Application to YC_compressed.mp4\n",
      "New file size: 94.32 MB\n"
     ]
    }
   ],
   "source": [
    "import os\n",
    "import subprocess\n",
    "\n",
    "# Find FFmpeg path\n",
    "ffmpeg_path = subprocess.check_output(['which', 'ffmpeg']).decode().strip()\n",
    "print(f\"FFmpeg path: {ffmpeg_path}\")\n",
    "\n",
    "# Set the IMAGEIO_FFMPEG_EXE environment variable\n",
    "os.environ[\"IMAGEIO_FFMPEG_EXE\"] = ffmpeg_path\n",
    "\n",
    "# Now import the required modules\n",
    "from moviepy.editor import VideoFileClip\n",
    "\n",
    "def compress_video(input_file, output_file, target_size_mb):\n",
    "    # Load the video clip\n",
    "    clip = VideoFileClip(input_file)\n",
    "    \n",
    "    # Get the duration of the video in seconds\n",
    "    duration = clip.duration\n",
    "    \n",
    "    # Calculate the target total bitrate (video + audio) in bits per second\n",
    "    target_total_bitrate = (target_size_mb * 8 * 1024 * 1024) / duration\n",
    "    \n",
    "    # Allocate 20% of the total bitrate to audio (adjust as needed)\n",
    "    audio_bitrate = min(192000, target_total_bitrate * 0.2)  # Cap at 192kbps\n",
    "    video_bitrate = target_total_bitrate - audio_bitrate\n",
    "    \n",
    "    # Compress the video\n",
    "    clip.write_videofile(\n",
    "        output_file,\n",
    "        bitrate=f\"{video_bitrate/1000:.0f}k\",\n",
    "        audio_bitrate=f\"{audio_bitrate/1000:.0f}k\",\n",
    "        preset='slow',\n",
    "        codec='libx264',\n",
    "        audio_codec='aac'\n",
    "    )\n",
    "    \n",
    "    # Close the clip to free up system resources\n",
    "    clip.close()\n",
    "    \n",
    "    print(f\"Compressed video saved as {output_file}\")\n",
    "    print(f\"New file size: {os.path.getsize(output_file) / (1024*1024):.2f} MB\")\n",
    "\n",
    "# Example usage\n",
    "input_file = '/Users/shreyashgupta/Desktop/Application to YC.mov'\n",
    "output_file = '/Users/shreyashgupta/Desktop/Application to YC_compressed.mp4'\n",
    "target_size = 85  # Target size in MB\n",
    "\n",
    "compress_video(input_file, output_file, target_size)"
   ]
  },
  {
   "cell_type": "code",
   "execution_count": null,
   "metadata": {},
   "outputs": [],
   "source": []
  }
 ],
 "metadata": {
  "kernelspec": {
   "display_name": "myenv",
   "language": "python",
   "name": "python3"
  },
  "language_info": {
   "codemirror_mode": {
    "name": "ipython",
    "version": 3
   },
   "file_extension": ".py",
   "mimetype": "text/x-python",
   "name": "python",
   "nbconvert_exporter": "python",
   "pygments_lexer": "ipython3",
   "version": "3.11.9"
  }
 },
 "nbformat": 4,
 "nbformat_minor": 2
}
