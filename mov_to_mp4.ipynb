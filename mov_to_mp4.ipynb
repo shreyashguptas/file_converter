{
 "cells": [
  {
   "cell_type": "code",
   "execution_count": null,
   "metadata": {},
   "outputs": [],
   "source": [
    "# %pip install moviepy\n",
    "# %pip install ffmpeg-python\n",
    "# # Note: You also need to install ffmpeg using homebrew since you're on MacOS:\n",
    "# # Run this in terminal: brew install ffmpeg"
   ]
  },
  {
   "cell_type": "code",
   "execution_count": 1,
   "metadata": {},
   "outputs": [
    {
     "name": "stdout",
     "output_type": "stream",
     "text": [
      "Moviepy - Building video /Users/shreyashgupta/Desktop/FDS Honors Dashboard Converted.mp4.\n",
      "MoviePy - Writing audio in FDS Honors Dashboard ConvertedTEMP_MPY_wvf_snd.mp4\n"
     ]
    },
    {
     "name": "stderr",
     "output_type": "stream",
     "text": [
      "                                                                     \r"
     ]
    },
    {
     "name": "stdout",
     "output_type": "stream",
     "text": [
      "MoviePy - Done.\n",
      "Moviepy - Writing video /Users/shreyashgupta/Desktop/FDS Honors Dashboard Converted.mp4\n",
      "\n"
     ]
    },
    {
     "name": "stderr",
     "output_type": "stream",
     "text": [
      "                                                                   \r"
     ]
    },
    {
     "name": "stdout",
     "output_type": "stream",
     "text": [
      "Moviepy - Done !\n",
      "Moviepy - video ready /Users/shreyashgupta/Desktop/FDS Honors Dashboard Converted.mp4\n",
      "Compressed video saved as /Users/shreyashgupta/Desktop/FDS Honors Dashboard Converted.mp4\n",
      "New file size: 75.24 MB\n"
     ]
    }
   ],
   "source": [
    "import os\n",
    "import subprocess\n",
    "\n",
    "# Set FFmpeg path explicitly before importing moviepy\n",
    "os.environ[\"IMAGEIO_FFMPEG_EXE\"] = \"/opt/homebrew/bin/ffmpeg\"\n",
    "\n",
    "# Now import VideoFileClip\n",
    "from moviepy.editor import VideoFileClip\n",
    "\n",
    "def compress_video(input_file, output_file, target_size_mb):\n",
    "    # Load the video clip\n",
    "    clip = VideoFileClip(input_file)\n",
    "    \n",
    "    # Get the duration of the video in seconds\n",
    "    duration = clip.duration\n",
    "    \n",
    "    # Calculate the target total bitrate (video + audio) in bits per second\n",
    "    target_total_bitrate = (target_size_mb * 8 * 1024 * 1024) / duration\n",
    "    \n",
    "    # Allocate 20% of the total bitrate to audio (adjust as needed)\n",
    "    audio_bitrate = min(192000, target_total_bitrate * 0.2)  # Cap at 192kbps\n",
    "    video_bitrate = target_total_bitrate - audio_bitrate\n",
    "    \n",
    "    # Compress the video\n",
    "    clip.write_videofile(\n",
    "        output_file,\n",
    "        bitrate=f\"{video_bitrate/1000:.0f}k\",\n",
    "        audio_bitrate=f\"{audio_bitrate/1000:.0f}k\",\n",
    "        preset='slow',\n",
    "        codec='libx264',\n",
    "        audio_codec='aac'\n",
    "    )\n",
    "    \n",
    "    # Close the clip to free up system resources\n",
    "    clip.close()\n",
    "    \n",
    "    print(f\"Compressed video saved as {output_file}\")\n",
    "    print(f\"New file size: {os.path.getsize(output_file) / (1024*1024):.2f} MB\")\n",
    "\n",
    "# Example usage\n",
    "input_file = '/Users/shreyashgupta/Desktop/FDS Honors Dashboard.mov'\n",
    "output_file = '/Users/shreyashgupta/Desktop/FDS Honors Dashboard Converted.mp4'\n",
    "target_size = 123  # Target size in MB\n",
    "\n",
    "compress_video(input_file, output_file, target_size)\n",
    "# compress_video(input_file, output_file)"
   ]
  }
 ],
 "metadata": {
  "kernelspec": {
   "display_name": "Python 3",
   "language": "python",
   "name": "python3"
  },
  "language_info": {
   "codemirror_mode": {
    "name": "ipython",
    "version": 3
   },
   "file_extension": ".py",
   "mimetype": "text/x-python",
   "name": "python",
   "nbconvert_exporter": "python",
   "pygments_lexer": "ipython3",
   "version": "3.10.15"
  }
 },
 "nbformat": 4,
 "nbformat_minor": 2
}
